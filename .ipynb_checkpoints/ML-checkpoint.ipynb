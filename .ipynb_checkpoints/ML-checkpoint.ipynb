{
 "cells": [
  {
   "cell_type": "code",
   "execution_count": 241,
   "id": "05c34eff-2ed3-4c25-bbaa-d48c5f557b63",
   "metadata": {},
   "outputs": [
    {
     "name": "stdout",
     "output_type": "stream",
     "text": [
      "^C\n"
     ]
    }
   ],
   "source": [
    "!pip uninstall scikit-learn"
   ]
  },
  {
   "cell_type": "code",
   "execution_count": 76,
   "id": "ead3cb5d-4a3c-4f37-aa94-5e9a35bb5cdc",
   "metadata": {},
   "outputs": [],
   "source": [
    "from datetime import datetime\n",
    "import matplotlib.pyplot as plt\n",
    "\n",
    "import numpy as np\n",
    "import pandas as pd\n",
    "\n",
    "from sklearn.model_selection import train_test_split\n",
    "from sklearn.linear_model import LogisticRegression\n",
    "from sklearn.neighbors import KNeighborsClassifier\n",
    "from sklearn.svm import SVC\n",
    "from sklearn.naive_bayes import GaussianNB\n",
    "from sklearn.tree import DecisionTreeClassifier\n",
    "from sklearn.ensemble import RandomForestClassifier\n",
    "\n",
    "from sklearn.metrics import confusion_matrix\n",
    "from sklearn.metrics import accuracy_score\n",
    "from sklearn.metrics import classification_report\n",
    "\n",
    "from sklearn.preprocessing import StandardScaler\n",
    "from sklearn.preprocessing import LabelEncoder"
   ]
  },
  {
   "cell_type": "code",
   "execution_count": 77,
   "id": "82a9dc66-2678-4b98-82ce-2552d6ca647f",
   "metadata": {},
   "outputs": [],
   "source": [
    "df_being = pd.read_csv('traffic_log3.csv')\n",
    "df_malicious = pd.read_csv('traffic_log10.csv')"
   ]
  },
  {
   "cell_type": "code",
   "execution_count": 78,
   "id": "18ede2b2-d2aa-4f30-8f60-a32fc0b87e0e",
   "metadata": {},
   "outputs": [],
   "source": [
    "df = pd.concat([df_being, df_malicious])"
   ]
  },
  {
   "cell_type": "code",
   "execution_count": 79,
   "id": "7ca58c36-92fd-407f-98b0-82e52221aa7a",
   "metadata": {},
   "outputs": [],
   "source": [
    "# Handling outliers in packet_size (example using Z-score)\n",
    "z_scores = np.abs((df['packet_size'] - df['packet_size'].mean()) / df['packet_size'].std())\n",
    "df = df[z_scores < 3]  # Assuming 3 standard deviations as the cutoff"
   ]
  },
  {
   "cell_type": "code",
   "execution_count": 80,
   "id": "1033ae37-5dc8-47d1-98c5-94d3e6afbe64",
   "metadata": {},
   "outputs": [],
   "source": [
    "# Normalize numerical features\n",
    "scaler = StandardScaler()\n",
    "df[['source_port', 'target_port', 'packet_size', 'packet_length']] = scaler.fit_transform(\n",
    "    df[['source_port', 'target_port', 'packet_size', 'packet_length']])"
   ]
  },
  {
   "cell_type": "code",
   "execution_count": 81,
   "id": "4527b833-6d67-4fee-907a-5d847100fbd3",
   "metadata": {},
   "outputs": [],
   "source": [
    "df['source_ip'] = df['source_ip'].apply(lambda x: float(x.replace('.', '')))\n",
    "df['target_ip'] = df['target_ip'].apply(lambda x: float(x.replace('.', '')))"
   ]
  },
  {
   "cell_type": "code",
   "execution_count": 82,
   "id": "3591196e-8593-4165-9a19-49f1e809a51f",
   "metadata": {},
   "outputs": [],
   "source": [
    "encoder = LabelEncoder()\n",
    "df['attack_mode_encoded'] = encoder.fit_transform(df['attack_mode'])"
   ]
  },
  {
   "cell_type": "code",
   "execution_count": 83,
   "id": "e553dedd-7262-4d78-9d86-ec07c0ae1865",
   "metadata": {},
   "outputs": [],
   "source": [
    "X = df[['source_port', 'target_port', 'packet_size', 'packet_length',\n",
    "                  'source_ip', 'target_ip', 'attack_mode_encoded' ]]"
   ]
  },
  {
   "cell_type": "code",
   "execution_count": 84,
   "id": "1f9f3931-47a7-46dc-81f3-9bc200ee97cc",
   "metadata": {},
   "outputs": [],
   "source": [
    "y = encoder.fit_transform(df['label'])  # Reusing the previously fitted encoder"
   ]
  },
  {
   "cell_type": "code",
   "execution_count": 85,
   "id": "2bcb44d4-cab9-4f69-8928-6cf5af1aa6ac",
   "metadata": {},
   "outputs": [],
   "source": [
    "# Re-split the data after preprocessing\n",
    "X_train, X_test, y_train, y_test = train_test_split(X, y, test_size=0.25, random_state=42)"
   ]
  },
  {
   "cell_type": "markdown",
   "id": "e7c6c92b-1f49-498d-bddd-d3f3fdfeba88",
   "metadata": {},
   "source": [
    "### Logistic Regression"
   ]
  },
  {
   "cell_type": "code",
   "execution_count": 26,
   "id": "1ea53478-b1b2-4ae1-a0c8-cdfb8907cfef",
   "metadata": {},
   "outputs": [],
   "source": [
    "model = LogisticRegression(max_iter=1000, random_state=42)"
   ]
  },
  {
   "cell_type": "code",
   "execution_count": 27,
   "id": "7c6f5f6e-5b3b-4944-9539-14c3aa9f2996",
   "metadata": {
    "scrolled": true
   },
   "outputs": [],
   "source": [
    "# Training the model again to see any impact of the preprocessing\n",
    "model = model.fit(X_train, y_train)\n",
    "y_pred = model.predict(X_test)\n",
    "accuracy = accuracy_score(y_test, y_pred)\n",
    "classification_rep = classification_report(y_test, y_pred)"
   ]
  },
  {
   "cell_type": "code",
   "execution_count": 28,
   "id": "9508f95c-0a3e-4738-9427-91f3bdcfa689",
   "metadata": {},
   "outputs": [
    {
     "name": "stdout",
     "output_type": "stream",
     "text": [
      "success accuracy = 98.55 %\n",
      "fail accuracy = 1.45 %\n"
     ]
    }
   ],
   "source": [
    "print(\"success accuracy = {0:.2f} %\".format(accuracy*100))\n",
    "fail = 1.0 - accuracy\n",
    "print(\"fail accuracy = {0:.2f} %\".format(fail*100))"
   ]
  },
  {
   "cell_type": "code",
   "execution_count": 29,
   "id": "b030390c-1606-4f2b-9a4b-fc36c668ecbf",
   "metadata": {},
   "outputs": [
    {
     "data": {
      "text/plain": [
       "'              precision    recall  f1-score   support\\n\\n           0       0.55      0.17      0.26     10108\\n           1       0.99      1.00      0.99    666082\\n\\n    accuracy                           0.99    676190\\n   macro avg       0.77      0.59      0.63    676190\\nweighted avg       0.98      0.99      0.98    676190\\n'"
      ]
     },
     "execution_count": 29,
     "metadata": {},
     "output_type": "execute_result"
    }
   ],
   "source": [
    "classification_rep"
   ]
  },
  {
   "cell_type": "markdown",
   "id": "a478c87d-9f3d-47f8-bc63-56820aba6fcd",
   "metadata": {},
   "source": [
    "### Random Forest"
   ]
  },
  {
   "cell_type": "code",
   "execution_count": 86,
   "id": "41158f89-ae48-422b-94c5-42e9edbb5fea",
   "metadata": {},
   "outputs": [],
   "source": [
    "classifier = RandomForestClassifier(n_estimators=100, criterion=\"entropy\", random_state=0)"
   ]
  },
  {
   "cell_type": "code",
   "execution_count": 87,
   "id": "ae498d30-69a9-4554-b97e-29965579d4a5",
   "metadata": {},
   "outputs": [],
   "source": [
    "model = classifier.fit(X_train, y_train)\n",
    "y_pred = model.predict(X_test)\n",
    "accuracy = accuracy_score(y_test, y_pred)\n",
    "classification_rep = classification_report(y_test, y_pred)"
   ]
  },
  {
   "cell_type": "code",
   "execution_count": 88,
   "id": "39c63c90-1edb-4887-b65e-a60d1d5a5a9f",
   "metadata": {},
   "outputs": [
    {
     "name": "stdout",
     "output_type": "stream",
     "text": [
      "success accuracy = 100.00 %\n",
      "fail accuracy = 0.00 %\n"
     ]
    }
   ],
   "source": [
    "print(\"success accuracy = {0:.2f} %\".format(accuracy*100))\n",
    "fail = 1.0 - accuracy\n",
    "print(\"fail accuracy = {0:.2f} %\".format(fail*100))"
   ]
  },
  {
   "cell_type": "markdown",
   "id": "20c29013-50ba-41b8-acc4-f6b54d1faea5",
   "metadata": {},
   "source": [
    "### Decision Tree"
   ]
  },
  {
   "cell_type": "code",
   "execution_count": 64,
   "id": "5d89c510-4007-4782-8078-e1123645a509",
   "metadata": {},
   "outputs": [],
   "source": [
    "classifier = DecisionTreeClassifier(criterion='entropy', random_state=0)"
   ]
  },
  {
   "cell_type": "code",
   "execution_count": 65,
   "id": "c5587de9-16fa-4a15-a28e-bc9f77e6b9ae",
   "metadata": {},
   "outputs": [],
   "source": [
    "model = classifier.fit(X_train, y_train)\n",
    "y_pred = model.predict(X_test)\n",
    "accuracy = accuracy_score(y_test, y_pred)\n",
    "classification_rep = classification_report(y_test, y_pred)"
   ]
  },
  {
   "cell_type": "code",
   "execution_count": 66,
   "id": "fc42f950-613f-4bdf-92bc-777f48de7ea2",
   "metadata": {},
   "outputs": [
    {
     "name": "stdout",
     "output_type": "stream",
     "text": [
      "success accuracy = 100.00 %\n",
      "fail accuracy = 0.00 %\n"
     ]
    }
   ],
   "source": [
    "print(\"success accuracy = {0:.2f} %\".format(accuracy*100))\n",
    "fail = 1.0 - accuracy\n",
    "print(\"fail accuracy = {0:.2f} %\".format(fail*100))"
   ]
  },
  {
   "cell_type": "code",
   "execution_count": 67,
   "id": "123af511-62e2-40cd-b33d-09bbf3fb7e47",
   "metadata": {},
   "outputs": [
    {
     "data": {
      "text/plain": [
       "'              precision    recall  f1-score   support\\n\\n           0       1.00      1.00      1.00     10108\\n           1       1.00      1.00      1.00    666082\\n\\n    accuracy                           1.00    676190\\n   macro avg       1.00      1.00      1.00    676190\\nweighted avg       1.00      1.00      1.00    676190\\n'"
      ]
     },
     "execution_count": 67,
     "metadata": {},
     "output_type": "execute_result"
    }
   ],
   "source": [
    "classification_rep"
   ]
  },
  {
   "cell_type": "markdown",
   "id": "21bfbfb6-119f-470c-9c72-49ce38c0c0e9",
   "metadata": {},
   "source": [
    "### KNeighbors"
   ]
  },
  {
   "cell_type": "code",
   "execution_count": 234,
   "id": "23cc795b-d791-4f2e-b084-c0113f65fa4b",
   "metadata": {},
   "outputs": [],
   "source": [
    "classifier = KNeighborsClassifier(n_neighbors=5, metric='minkowski', p=2)"
   ]
  },
  {
   "cell_type": "code",
   "execution_count": 235,
   "id": "c837191e-f6c0-4338-9de5-ae96c1335074",
   "metadata": {},
   "outputs": [],
   "source": [
    "model = classifier.fit(X_train, y_train)\n",
    "y_pred = model.predict(X_test)\n",
    "accuracy = accuracy_score(y_test, y_pred)\n",
    "classification_rep = classification_report(y_test, y_pred)"
   ]
  },
  {
   "cell_type": "code",
   "execution_count": 236,
   "id": "a19ae1ba-5915-47e9-b7e8-cc12e6f54b37",
   "metadata": {},
   "outputs": [
    {
     "name": "stdout",
     "output_type": "stream",
     "text": [
      "success accuracy = 100.00 %\n",
      "fail accuracy = 0.00 %\n"
     ]
    }
   ],
   "source": [
    "print(\"success accuracy = {0:.2f} %\".format(accuracy*100))\n",
    "fail = 1.0 - accuracy\n",
    "print(\"fail accuracy = {0:.2f} %\".format(fail*100))"
   ]
  },
  {
   "cell_type": "markdown",
   "id": "85bb7ba1-f164-4a14-b862-b33db148e92f",
   "metadata": {},
   "source": [
    "### SVC"
   ]
  },
  {
   "cell_type": "code",
   "execution_count": 109,
   "id": "0bdd22db-ab1e-4dd4-99b3-ba06744dcae8",
   "metadata": {},
   "outputs": [],
   "source": [
    "classifier = SVC(kernel='rbf', random_state=0)"
   ]
  },
  {
   "cell_type": "code",
   "execution_count": null,
   "id": "7e02e8a2-2c23-45f8-9d86-0a4f2f18893a",
   "metadata": {},
   "outputs": [],
   "source": [
    "model = classifier.fit(X_train, y_train)\n",
    "y_pred = model.predict(X_test)\n",
    "accuracy = accuracy_score(y_test, y_pred)\n",
    "classification_rep = classification_report(y_test, y_pred)"
   ]
  },
  {
   "cell_type": "code",
   "execution_count": null,
   "id": "f599ef60-c191-404c-b993-8f01a8d0e1b4",
   "metadata": {},
   "outputs": [],
   "source": [
    "print(\"success accuracy = {0:.2f} %\".format(accuracy*100))\n",
    "fail = 1.0 - accuracy\n",
    "print(\"fail accuracy = {0:.2f} %\".format(fail*100))"
   ]
  },
  {
   "cell_type": "markdown",
   "id": "090febae-dced-4027-b657-37884b702ea0",
   "metadata": {},
   "source": [
    "### NAIVE-BAYES"
   ]
  },
  {
   "cell_type": "code",
   "execution_count": 97,
   "id": "a2d9afe3-ae61-41d2-a2f7-2ad4f3e6706c",
   "metadata": {},
   "outputs": [],
   "source": [
    "classifier = GaussianNB()"
   ]
  },
  {
   "cell_type": "code",
   "execution_count": 98,
   "id": "c5274287-6aea-41b1-8b1e-204fc8201f22",
   "metadata": {},
   "outputs": [],
   "source": [
    "model = classifier.fit(X_train, y_train)\n",
    "y_pred = model.predict(X_test)\n",
    "accuracy = accuracy_score(y_test, y_pred)\n",
    "classification_rep = classification_report(y_test, y_pred)"
   ]
  },
  {
   "cell_type": "code",
   "execution_count": 99,
   "id": "f0e9c7d9-77bb-4881-8313-5d995e8c9d2e",
   "metadata": {},
   "outputs": [
    {
     "name": "stdout",
     "output_type": "stream",
     "text": [
      "success accuracy = 99.75 %\n",
      "fail accuracy = 0.25 %\n"
     ]
    }
   ],
   "source": [
    "print(\"success accuracy = {0:.2f} %\".format(accuracy*100))\n",
    "fail = 1.0 - accuracy\n",
    "print(\"fail accuracy = {0:.2f} %\".format(fail*100))"
   ]
  },
  {
   "cell_type": "code",
   "execution_count": null,
   "id": "3e7256fa-5098-44ad-b2b6-82576d5eaf50",
   "metadata": {},
   "outputs": [],
   "source": []
  },
  {
   "cell_type": "code",
   "execution_count": null,
   "id": "7be53e76-1b0b-4506-9077-45f80c698e50",
   "metadata": {},
   "outputs": [],
   "source": []
  },
  {
   "cell_type": "code",
   "execution_count": null,
   "id": "08886b32-870e-4eac-92bb-99298b777718",
   "metadata": {},
   "outputs": [],
   "source": [
    "# Initialize and train the XGBoost classifier\n",
    "xgb_model = xgb.XGBClassifier(use_label_encoder=False, eval_metric='mlogloss', random_state=42)\n",
    "xgb_model.fit(X_train, y_train)\n",
    "\n",
    "# Predict on the test set\n",
    "y_pred_xgb = xgb_model.predict(X_test)\n",
    "\n",
    "# Evaluate the model's performance\n",
    "accuracy_xgb = accuracy_score(y_test, y_pred_xgb)\n",
    "classification_rep_xgb = classification_report(y_test, y_pred_xgb)"
   ]
  },
  {
   "cell_type": "code",
   "execution_count": null,
   "id": "d2680172-d4f1-44b8-8b41-c5b846ed3a91",
   "metadata": {},
   "outputs": [],
   "source": []
  },
  {
   "cell_type": "code",
   "execution_count": null,
   "id": "15b9ca61-b78a-402a-8d15-ff3614634d25",
   "metadata": {},
   "outputs": [],
   "source": []
  },
  {
   "cell_type": "code",
   "execution_count": null,
   "id": "53372bc2-9aae-411d-a594-1badd5a10779",
   "metadata": {},
   "outputs": [],
   "source": []
  },
  {
   "cell_type": "code",
   "execution_count": 100,
   "id": "eefdb3dd-393f-4f7b-9b38-56ceeea6c1ac",
   "metadata": {},
   "outputs": [],
   "source": [
    "# importing the joblib libraray\n",
    "import joblib"
   ]
  },
  {
   "cell_type": "code",
   "execution_count": 101,
   "id": "17a16ab9-2c73-4bdc-8b41-d0c54abfe78e",
   "metadata": {},
   "outputs": [
    {
     "data": {
      "text/plain": [
       "['rf.joblib']"
      ]
     },
     "execution_count": 101,
     "metadata": {},
     "output_type": "execute_result"
    }
   ],
   "source": [
    "joblib.dump(model, 'rf.joblib')"
   ]
  },
  {
   "cell_type": "code",
   "execution_count": 102,
   "id": "c71e0095-ed0b-4d8a-949f-d3797c8e7fb2",
   "metadata": {},
   "outputs": [
    {
     "data": {
      "text/html": [
       "<style>#sk-container-id-5 {color: black;background-color: white;}#sk-container-id-5 pre{padding: 0;}#sk-container-id-5 div.sk-toggleable {background-color: white;}#sk-container-id-5 label.sk-toggleable__label {cursor: pointer;display: block;width: 100%;margin-bottom: 0;padding: 0.3em;box-sizing: border-box;text-align: center;}#sk-container-id-5 label.sk-toggleable__label-arrow:before {content: \"▸\";float: left;margin-right: 0.25em;color: #696969;}#sk-container-id-5 label.sk-toggleable__label-arrow:hover:before {color: black;}#sk-container-id-5 div.sk-estimator:hover label.sk-toggleable__label-arrow:before {color: black;}#sk-container-id-5 div.sk-toggleable__content {max-height: 0;max-width: 0;overflow: hidden;text-align: left;background-color: #f0f8ff;}#sk-container-id-5 div.sk-toggleable__content pre {margin: 0.2em;color: black;border-radius: 0.25em;background-color: #f0f8ff;}#sk-container-id-5 input.sk-toggleable__control:checked~div.sk-toggleable__content {max-height: 200px;max-width: 100%;overflow: auto;}#sk-container-id-5 input.sk-toggleable__control:checked~label.sk-toggleable__label-arrow:before {content: \"▾\";}#sk-container-id-5 div.sk-estimator input.sk-toggleable__control:checked~label.sk-toggleable__label {background-color: #d4ebff;}#sk-container-id-5 div.sk-label input.sk-toggleable__control:checked~label.sk-toggleable__label {background-color: #d4ebff;}#sk-container-id-5 input.sk-hidden--visually {border: 0;clip: rect(1px 1px 1px 1px);clip: rect(1px, 1px, 1px, 1px);height: 1px;margin: -1px;overflow: hidden;padding: 0;position: absolute;width: 1px;}#sk-container-id-5 div.sk-estimator {font-family: monospace;background-color: #f0f8ff;border: 1px dotted black;border-radius: 0.25em;box-sizing: border-box;margin-bottom: 0.5em;}#sk-container-id-5 div.sk-estimator:hover {background-color: #d4ebff;}#sk-container-id-5 div.sk-parallel-item::after {content: \"\";width: 100%;border-bottom: 1px solid gray;flex-grow: 1;}#sk-container-id-5 div.sk-label:hover label.sk-toggleable__label {background-color: #d4ebff;}#sk-container-id-5 div.sk-serial::before {content: \"\";position: absolute;border-left: 1px solid gray;box-sizing: border-box;top: 0;bottom: 0;left: 50%;z-index: 0;}#sk-container-id-5 div.sk-serial {display: flex;flex-direction: column;align-items: center;background-color: white;padding-right: 0.2em;padding-left: 0.2em;position: relative;}#sk-container-id-5 div.sk-item {position: relative;z-index: 1;}#sk-container-id-5 div.sk-parallel {display: flex;align-items: stretch;justify-content: center;background-color: white;position: relative;}#sk-container-id-5 div.sk-item::before, #sk-container-id-5 div.sk-parallel-item::before {content: \"\";position: absolute;border-left: 1px solid gray;box-sizing: border-box;top: 0;bottom: 0;left: 50%;z-index: -1;}#sk-container-id-5 div.sk-parallel-item {display: flex;flex-direction: column;z-index: 1;position: relative;background-color: white;}#sk-container-id-5 div.sk-parallel-item:first-child::after {align-self: flex-end;width: 50%;}#sk-container-id-5 div.sk-parallel-item:last-child::after {align-self: flex-start;width: 50%;}#sk-container-id-5 div.sk-parallel-item:only-child::after {width: 0;}#sk-container-id-5 div.sk-dashed-wrapped {border: 1px dashed gray;margin: 0 0.4em 0.5em 0.4em;box-sizing: border-box;padding-bottom: 0.4em;background-color: white;}#sk-container-id-5 div.sk-label label {font-family: monospace;font-weight: bold;display: inline-block;line-height: 1.2em;}#sk-container-id-5 div.sk-label-container {text-align: center;}#sk-container-id-5 div.sk-container {/* jupyter's `normalize.less` sets `[hidden] { display: none; }` but bootstrap.min.css set `[hidden] { display: none !important; }` so we also need the `!important` here to be able to override the default hidden behavior on the sphinx rendered scikit-learn.org. See: https://github.com/scikit-learn/scikit-learn/issues/21755 */display: inline-block !important;position: relative;}#sk-container-id-5 div.sk-text-repr-fallback {display: none;}</style><div id=\"sk-container-id-5\" class=\"sk-top-container\"><div class=\"sk-text-repr-fallback\"><pre>GaussianNB()</pre><b>In a Jupyter environment, please rerun this cell to show the HTML representation or trust the notebook. <br />On GitHub, the HTML representation is unable to render, please try loading this page with nbviewer.org.</b></div><div class=\"sk-container\" hidden><div class=\"sk-item\"><div class=\"sk-estimator sk-toggleable\"><input class=\"sk-toggleable__control sk-hidden--visually\" id=\"sk-estimator-id-5\" type=\"checkbox\" checked><label for=\"sk-estimator-id-5\" class=\"sk-toggleable__label sk-toggleable__label-arrow\">GaussianNB</label><div class=\"sk-toggleable__content\"><pre>GaussianNB()</pre></div></div></div></div></div>"
      ],
      "text/plain": [
       "GaussianNB()"
      ]
     },
     "execution_count": 102,
     "metadata": {},
     "output_type": "execute_result"
    }
   ],
   "source": [
    "model"
   ]
  },
  {
   "cell_type": "code",
   "execution_count": 61,
   "id": "26156382-bc4e-4230-93b5-482078f0ac06",
   "metadata": {},
   "outputs": [],
   "source": [
    "model = joblib.load('rf.joblib')"
   ]
  },
  {
   "cell_type": "code",
   "execution_count": null,
   "id": "dc4b9bf5-8d05-4fb4-b4c2-ef4bf7b0b620",
   "metadata": {},
   "outputs": [],
   "source": []
  },
  {
   "cell_type": "code",
   "execution_count": null,
   "id": "7b087cd0-4406-477d-8d0d-2ad4e67cf801",
   "metadata": {},
   "outputs": [],
   "source": []
  },
  {
   "cell_type": "code",
   "execution_count": null,
   "id": "1821630c-d3e5-440b-83c2-59b4f8c048e0",
   "metadata": {},
   "outputs": [],
   "source": []
  },
  {
   "cell_type": "code",
   "execution_count": 103,
   "id": "e26131de-9b7d-40b8-8136-9830ab33aa18",
   "metadata": {},
   "outputs": [],
   "source": [
    "df_test = pd.read_csv('traffic_log10.csv')"
   ]
  },
  {
   "cell_type": "code",
   "execution_count": 104,
   "id": "88f03bc1-8ca5-4a15-8674-a6b9a25d54fb",
   "metadata": {},
   "outputs": [
    {
     "data": {
      "text/html": [
       "<div>\n",
       "<style scoped>\n",
       "    .dataframe tbody tr th:only-of-type {\n",
       "        vertical-align: middle;\n",
       "    }\n",
       "\n",
       "    .dataframe tbody tr th {\n",
       "        vertical-align: top;\n",
       "    }\n",
       "\n",
       "    .dataframe thead th {\n",
       "        text-align: right;\n",
       "    }\n",
       "</style>\n",
       "<table border=\"1\" class=\"dataframe\">\n",
       "  <thead>\n",
       "    <tr style=\"text-align: right;\">\n",
       "      <th></th>\n",
       "      <th>timestamp</th>\n",
       "      <th>source_ip</th>\n",
       "      <th>target_ip</th>\n",
       "      <th>source_port</th>\n",
       "      <th>target_port</th>\n",
       "      <th>packet_size</th>\n",
       "      <th>attack_mode</th>\n",
       "      <th>label</th>\n",
       "      <th>packet_length</th>\n",
       "      <th>packet_summary</th>\n",
       "    </tr>\n",
       "  </thead>\n",
       "  <tbody>\n",
       "    <tr>\n",
       "      <th>0</th>\n",
       "      <td>2024-04-20T23:02:46.062581</td>\n",
       "      <td>192.168.1.100</td>\n",
       "      <td>192.168.31.185</td>\n",
       "      <td>27432</td>\n",
       "      <td>100</td>\n",
       "      <td>60</td>\n",
       "      <td>http</td>\n",
       "      <td>normal</td>\n",
       "      <td>80</td>\n",
       "      <td>IP / TCP 192.168.1.100:27432 &gt; 192.168.31.185:...</td>\n",
       "    </tr>\n",
       "    <tr>\n",
       "      <th>1</th>\n",
       "      <td>2024-04-20T23:02:46.067191</td>\n",
       "      <td>192.168.1.100</td>\n",
       "      <td>192.168.31.185</td>\n",
       "      <td>34853</td>\n",
       "      <td>100</td>\n",
       "      <td>60</td>\n",
       "      <td>http</td>\n",
       "      <td>normal</td>\n",
       "      <td>80</td>\n",
       "      <td>IP / TCP 192.168.1.100:34853 &gt; 192.168.31.185:...</td>\n",
       "    </tr>\n",
       "    <tr>\n",
       "      <th>2</th>\n",
       "      <td>2024-04-20T23:02:46.072180</td>\n",
       "      <td>192.168.1.100</td>\n",
       "      <td>192.168.31.185</td>\n",
       "      <td>54786</td>\n",
       "      <td>100</td>\n",
       "      <td>60</td>\n",
       "      <td>http</td>\n",
       "      <td>normal</td>\n",
       "      <td>80</td>\n",
       "      <td>IP / TCP 192.168.1.100:54786 &gt; 192.168.31.185:...</td>\n",
       "    </tr>\n",
       "    <tr>\n",
       "      <th>3</th>\n",
       "      <td>2024-04-20T23:02:46.081156</td>\n",
       "      <td>192.168.1.100</td>\n",
       "      <td>192.168.31.185</td>\n",
       "      <td>5702</td>\n",
       "      <td>100</td>\n",
       "      <td>60</td>\n",
       "      <td>http</td>\n",
       "      <td>normal</td>\n",
       "      <td>80</td>\n",
       "      <td>IP / TCP 192.168.1.100:5702 &gt; 192.168.31.185:h...</td>\n",
       "    </tr>\n",
       "    <tr>\n",
       "      <th>4</th>\n",
       "      <td>2024-04-20T23:02:46.091130</td>\n",
       "      <td>192.168.1.100</td>\n",
       "      <td>192.168.31.185</td>\n",
       "      <td>23023</td>\n",
       "      <td>100</td>\n",
       "      <td>60</td>\n",
       "      <td>http</td>\n",
       "      <td>normal</td>\n",
       "      <td>80</td>\n",
       "      <td>IP / TCP 192.168.1.100:23023 &gt; 192.168.31.185:...</td>\n",
       "    </tr>\n",
       "    <tr>\n",
       "      <th>...</th>\n",
       "      <td>...</td>\n",
       "      <td>...</td>\n",
       "      <td>...</td>\n",
       "      <td>...</td>\n",
       "      <td>...</td>\n",
       "      <td>...</td>\n",
       "      <td>...</td>\n",
       "      <td>...</td>\n",
       "      <td>...</td>\n",
       "      <td>...</td>\n",
       "    </tr>\n",
       "    <tr>\n",
       "      <th>124883</th>\n",
       "      <td>1713689493</td>\n",
       "      <td>192.168.31.185</td>\n",
       "      <td>162.247.241.14</td>\n",
       "      <td>59409</td>\n",
       "      <td>443</td>\n",
       "      <td>1161</td>\n",
       "      <td>tcp</td>\n",
       "      <td>normal</td>\n",
       "      <td>1195</td>\n",
       "      <td>Ether / IP / TCP 192.168.31.185:59409 &gt; 162.24...</td>\n",
       "    </tr>\n",
       "    <tr>\n",
       "      <th>124884</th>\n",
       "      <td>1713689493</td>\n",
       "      <td>162.247.241.14</td>\n",
       "      <td>192.168.31.185</td>\n",
       "      <td>443</td>\n",
       "      <td>59409</td>\n",
       "      <td>26</td>\n",
       "      <td>tcp</td>\n",
       "      <td>normal</td>\n",
       "      <td>60</td>\n",
       "      <td>Ether / IP / TCP 162.247.241.14:https &gt; 192.16...</td>\n",
       "    </tr>\n",
       "    <tr>\n",
       "      <th>124885</th>\n",
       "      <td>1713689493</td>\n",
       "      <td>192.168.31.185</td>\n",
       "      <td>162.247.243.29</td>\n",
       "      <td>56810</td>\n",
       "      <td>443</td>\n",
       "      <td>20</td>\n",
       "      <td>tcp</td>\n",
       "      <td>normal</td>\n",
       "      <td>54</td>\n",
       "      <td>Ether / IP / TCP 192.168.31.185:56810 &gt; 162.24...</td>\n",
       "    </tr>\n",
       "    <tr>\n",
       "      <th>124886</th>\n",
       "      <td>1713689493</td>\n",
       "      <td>162.247.241.14</td>\n",
       "      <td>192.168.31.185</td>\n",
       "      <td>443</td>\n",
       "      <td>59409</td>\n",
       "      <td>439</td>\n",
       "      <td>tcp</td>\n",
       "      <td>normal</td>\n",
       "      <td>473</td>\n",
       "      <td>Ether / IP / TCP 162.247.241.14:https &gt; 192.16...</td>\n",
       "    </tr>\n",
       "    <tr>\n",
       "      <th>124887</th>\n",
       "      <td>1713689493</td>\n",
       "      <td>192.168.31.185</td>\n",
       "      <td>162.247.241.14</td>\n",
       "      <td>59409</td>\n",
       "      <td>443</td>\n",
       "      <td>20</td>\n",
       "      <td>tcp</td>\n",
       "      <td>normal</td>\n",
       "      <td>54</td>\n",
       "      <td>Ether / IP / TCP 192.168.31.185:59409 &gt; 162.24...</td>\n",
       "    </tr>\n",
       "  </tbody>\n",
       "</table>\n",
       "<p>124888 rows × 10 columns</p>\n",
       "</div>"
      ],
      "text/plain": [
       "                         timestamp       source_ip       target_ip  \\\n",
       "0       2024-04-20T23:02:46.062581   192.168.1.100  192.168.31.185   \n",
       "1       2024-04-20T23:02:46.067191   192.168.1.100  192.168.31.185   \n",
       "2       2024-04-20T23:02:46.072180   192.168.1.100  192.168.31.185   \n",
       "3       2024-04-20T23:02:46.081156   192.168.1.100  192.168.31.185   \n",
       "4       2024-04-20T23:02:46.091130   192.168.1.100  192.168.31.185   \n",
       "...                            ...             ...             ...   \n",
       "124883                  1713689493  192.168.31.185  162.247.241.14   \n",
       "124884                  1713689493  162.247.241.14  192.168.31.185   \n",
       "124885                  1713689493  192.168.31.185  162.247.243.29   \n",
       "124886                  1713689493  162.247.241.14  192.168.31.185   \n",
       "124887                  1713689493  192.168.31.185  162.247.241.14   \n",
       "\n",
       "        source_port  target_port  packet_size attack_mode   label  \\\n",
       "0             27432          100           60        http  normal   \n",
       "1             34853          100           60        http  normal   \n",
       "2             54786          100           60        http  normal   \n",
       "3              5702          100           60        http  normal   \n",
       "4             23023          100           60        http  normal   \n",
       "...             ...          ...          ...         ...     ...   \n",
       "124883        59409          443         1161         tcp  normal   \n",
       "124884          443        59409           26         tcp  normal   \n",
       "124885        56810          443           20         tcp  normal   \n",
       "124886          443        59409          439         tcp  normal   \n",
       "124887        59409          443           20         tcp  normal   \n",
       "\n",
       "        packet_length                                     packet_summary  \n",
       "0                  80  IP / TCP 192.168.1.100:27432 > 192.168.31.185:...  \n",
       "1                  80  IP / TCP 192.168.1.100:34853 > 192.168.31.185:...  \n",
       "2                  80  IP / TCP 192.168.1.100:54786 > 192.168.31.185:...  \n",
       "3                  80  IP / TCP 192.168.1.100:5702 > 192.168.31.185:h...  \n",
       "4                  80  IP / TCP 192.168.1.100:23023 > 192.168.31.185:...  \n",
       "...               ...                                                ...  \n",
       "124883           1195  Ether / IP / TCP 192.168.31.185:59409 > 162.24...  \n",
       "124884             60  Ether / IP / TCP 162.247.241.14:https > 192.16...  \n",
       "124885             54  Ether / IP / TCP 192.168.31.185:56810 > 162.24...  \n",
       "124886            473  Ether / IP / TCP 162.247.241.14:https > 192.16...  \n",
       "124887             54  Ether / IP / TCP 192.168.31.185:59409 > 162.24...  \n",
       "\n",
       "[124888 rows x 10 columns]"
      ]
     },
     "execution_count": 104,
     "metadata": {},
     "output_type": "execute_result"
    }
   ],
   "source": [
    "df_test"
   ]
  },
  {
   "cell_type": "code",
   "execution_count": 105,
   "id": "ca4380c9-80dd-4e28-8f60-0a9df215cc53",
   "metadata": {},
   "outputs": [
    {
     "data": {
      "text/html": [
       "<div>\n",
       "<style scoped>\n",
       "    .dataframe tbody tr th:only-of-type {\n",
       "        vertical-align: middle;\n",
       "    }\n",
       "\n",
       "    .dataframe tbody tr th {\n",
       "        vertical-align: top;\n",
       "    }\n",
       "\n",
       "    .dataframe thead th {\n",
       "        text-align: right;\n",
       "    }\n",
       "</style>\n",
       "<table border=\"1\" class=\"dataframe\">\n",
       "  <thead>\n",
       "    <tr style=\"text-align: right;\">\n",
       "      <th></th>\n",
       "      <th>source_port</th>\n",
       "      <th>target_port</th>\n",
       "      <th>packet_size</th>\n",
       "      <th>packet_length</th>\n",
       "      <th>source_ip</th>\n",
       "      <th>target_ip</th>\n",
       "      <th>attack_mode</th>\n",
       "    </tr>\n",
       "  </thead>\n",
       "  <tbody>\n",
       "    <tr>\n",
       "      <th>0</th>\n",
       "      <td>27432</td>\n",
       "      <td>100</td>\n",
       "      <td>60</td>\n",
       "      <td>80</td>\n",
       "      <td>192.168.1.100</td>\n",
       "      <td>192.168.31.185</td>\n",
       "      <td>http</td>\n",
       "    </tr>\n",
       "    <tr>\n",
       "      <th>1</th>\n",
       "      <td>34853</td>\n",
       "      <td>100</td>\n",
       "      <td>60</td>\n",
       "      <td>80</td>\n",
       "      <td>192.168.1.100</td>\n",
       "      <td>192.168.31.185</td>\n",
       "      <td>http</td>\n",
       "    </tr>\n",
       "    <tr>\n",
       "      <th>2</th>\n",
       "      <td>54786</td>\n",
       "      <td>100</td>\n",
       "      <td>60</td>\n",
       "      <td>80</td>\n",
       "      <td>192.168.1.100</td>\n",
       "      <td>192.168.31.185</td>\n",
       "      <td>http</td>\n",
       "    </tr>\n",
       "    <tr>\n",
       "      <th>3</th>\n",
       "      <td>5702</td>\n",
       "      <td>100</td>\n",
       "      <td>60</td>\n",
       "      <td>80</td>\n",
       "      <td>192.168.1.100</td>\n",
       "      <td>192.168.31.185</td>\n",
       "      <td>http</td>\n",
       "    </tr>\n",
       "    <tr>\n",
       "      <th>4</th>\n",
       "      <td>23023</td>\n",
       "      <td>100</td>\n",
       "      <td>60</td>\n",
       "      <td>80</td>\n",
       "      <td>192.168.1.100</td>\n",
       "      <td>192.168.31.185</td>\n",
       "      <td>http</td>\n",
       "    </tr>\n",
       "    <tr>\n",
       "      <th>...</th>\n",
       "      <td>...</td>\n",
       "      <td>...</td>\n",
       "      <td>...</td>\n",
       "      <td>...</td>\n",
       "      <td>...</td>\n",
       "      <td>...</td>\n",
       "      <td>...</td>\n",
       "    </tr>\n",
       "    <tr>\n",
       "      <th>124883</th>\n",
       "      <td>59409</td>\n",
       "      <td>443</td>\n",
       "      <td>1161</td>\n",
       "      <td>1195</td>\n",
       "      <td>192.168.31.185</td>\n",
       "      <td>162.247.241.14</td>\n",
       "      <td>tcp</td>\n",
       "    </tr>\n",
       "    <tr>\n",
       "      <th>124884</th>\n",
       "      <td>443</td>\n",
       "      <td>59409</td>\n",
       "      <td>26</td>\n",
       "      <td>60</td>\n",
       "      <td>162.247.241.14</td>\n",
       "      <td>192.168.31.185</td>\n",
       "      <td>tcp</td>\n",
       "    </tr>\n",
       "    <tr>\n",
       "      <th>124885</th>\n",
       "      <td>56810</td>\n",
       "      <td>443</td>\n",
       "      <td>20</td>\n",
       "      <td>54</td>\n",
       "      <td>192.168.31.185</td>\n",
       "      <td>162.247.243.29</td>\n",
       "      <td>tcp</td>\n",
       "    </tr>\n",
       "    <tr>\n",
       "      <th>124886</th>\n",
       "      <td>443</td>\n",
       "      <td>59409</td>\n",
       "      <td>439</td>\n",
       "      <td>473</td>\n",
       "      <td>162.247.241.14</td>\n",
       "      <td>192.168.31.185</td>\n",
       "      <td>tcp</td>\n",
       "    </tr>\n",
       "    <tr>\n",
       "      <th>124887</th>\n",
       "      <td>59409</td>\n",
       "      <td>443</td>\n",
       "      <td>20</td>\n",
       "      <td>54</td>\n",
       "      <td>192.168.31.185</td>\n",
       "      <td>162.247.241.14</td>\n",
       "      <td>tcp</td>\n",
       "    </tr>\n",
       "  </tbody>\n",
       "</table>\n",
       "<p>124888 rows × 7 columns</p>\n",
       "</div>"
      ],
      "text/plain": [
       "        source_port  target_port  packet_size  packet_length       source_ip  \\\n",
       "0             27432          100           60             80   192.168.1.100   \n",
       "1             34853          100           60             80   192.168.1.100   \n",
       "2             54786          100           60             80   192.168.1.100   \n",
       "3              5702          100           60             80   192.168.1.100   \n",
       "4             23023          100           60             80   192.168.1.100   \n",
       "...             ...          ...          ...            ...             ...   \n",
       "124883        59409          443         1161           1195  192.168.31.185   \n",
       "124884          443        59409           26             60  162.247.241.14   \n",
       "124885        56810          443           20             54  192.168.31.185   \n",
       "124886          443        59409          439            473  162.247.241.14   \n",
       "124887        59409          443           20             54  192.168.31.185   \n",
       "\n",
       "             target_ip attack_mode  \n",
       "0       192.168.31.185        http  \n",
       "1       192.168.31.185        http  \n",
       "2       192.168.31.185        http  \n",
       "3       192.168.31.185        http  \n",
       "4       192.168.31.185        http  \n",
       "...                ...         ...  \n",
       "124883  162.247.241.14         tcp  \n",
       "124884  192.168.31.185         tcp  \n",
       "124885  162.247.243.29         tcp  \n",
       "124886  192.168.31.185         tcp  \n",
       "124887  162.247.241.14         tcp  \n",
       "\n",
       "[124888 rows x 7 columns]"
      ]
     },
     "execution_count": 105,
     "metadata": {},
     "output_type": "execute_result"
    }
   ],
   "source": [
    "df_test[['source_port', 'target_port', 'packet_size', 'packet_length',\n",
    "                  'source_ip', 'target_ip', 'attack_mode']]"
   ]
  },
  {
   "cell_type": "code",
   "execution_count": 106,
   "id": "b265e463-82ef-4c96-aca6-af6ac0a18de8",
   "metadata": {},
   "outputs": [],
   "source": [
    "# Normalize numerical features\n",
    "scaler = StandardScaler()\n",
    "df_test[['source_port', 'target_port', 'packet_size', 'packet_length']] = scaler.fit_transform(\n",
    "    df_test[['source_port', 'target_port', 'packet_size', 'packet_length']])\n",
    "\n",
    "df_test['source_ip'] = df_test['source_ip'].apply(lambda x: x.replace('.', ''))\n",
    "df_test['target_ip'] = df_test['target_ip'].apply(lambda x: x.replace('.', ''))\n",
    "\n",
    "encoder = LabelEncoder()\n",
    "df_test['attack_mode_encoded'] = encoder.fit_transform(df_test['attack_mode'])\n",
    "\n",
    "X = df_test[['source_port', 'target_port', 'packet_size', 'packet_length',\n",
    "                  'source_ip', 'target_ip', 'attack_mode_encoded']]"
   ]
  },
  {
   "cell_type": "code",
   "execution_count": 107,
   "id": "2f08690d-5f0d-475d-9f0e-0ffff530eb16",
   "metadata": {},
   "outputs": [
    {
     "data": {
      "text/html": [
       "<div>\n",
       "<style scoped>\n",
       "    .dataframe tbody tr th:only-of-type {\n",
       "        vertical-align: middle;\n",
       "    }\n",
       "\n",
       "    .dataframe tbody tr th {\n",
       "        vertical-align: top;\n",
       "    }\n",
       "\n",
       "    .dataframe thead th {\n",
       "        text-align: right;\n",
       "    }\n",
       "</style>\n",
       "<table border=\"1\" class=\"dataframe\">\n",
       "  <thead>\n",
       "    <tr style=\"text-align: right;\">\n",
       "      <th></th>\n",
       "      <th>source_port</th>\n",
       "      <th>target_port</th>\n",
       "      <th>packet_size</th>\n",
       "      <th>packet_length</th>\n",
       "      <th>source_ip</th>\n",
       "      <th>target_ip</th>\n",
       "      <th>attack_mode_encoded</th>\n",
       "    </tr>\n",
       "  </thead>\n",
       "  <tbody>\n",
       "    <tr>\n",
       "      <th>0</th>\n",
       "      <td>-0.169890</td>\n",
       "      <td>-0.373419</td>\n",
       "      <td>-1.269651</td>\n",
       "      <td>-0.169820</td>\n",
       "      <td>1921681100</td>\n",
       "      <td>19216831185</td>\n",
       "      <td>0</td>\n",
       "    </tr>\n",
       "    <tr>\n",
       "      <th>1</th>\n",
       "      <td>0.180192</td>\n",
       "      <td>-0.373419</td>\n",
       "      <td>-1.269651</td>\n",
       "      <td>-0.169820</td>\n",
       "      <td>1921681100</td>\n",
       "      <td>19216831185</td>\n",
       "      <td>0</td>\n",
       "    </tr>\n",
       "    <tr>\n",
       "      <th>2</th>\n",
       "      <td>1.120520</td>\n",
       "      <td>-0.373419</td>\n",
       "      <td>-1.269651</td>\n",
       "      <td>-0.169820</td>\n",
       "      <td>1921681100</td>\n",
       "      <td>19216831185</td>\n",
       "      <td>0</td>\n",
       "    </tr>\n",
       "    <tr>\n",
       "      <th>3</th>\n",
       "      <td>-1.194991</td>\n",
       "      <td>-0.373419</td>\n",
       "      <td>-1.269651</td>\n",
       "      <td>-0.169820</td>\n",
       "      <td>1921681100</td>\n",
       "      <td>19216831185</td>\n",
       "      <td>0</td>\n",
       "    </tr>\n",
       "    <tr>\n",
       "      <th>4</th>\n",
       "      <td>-0.377882</td>\n",
       "      <td>-0.373419</td>\n",
       "      <td>-1.269651</td>\n",
       "      <td>-0.169820</td>\n",
       "      <td>1921681100</td>\n",
       "      <td>19216831185</td>\n",
       "      <td>0</td>\n",
       "    </tr>\n",
       "    <tr>\n",
       "      <th>...</th>\n",
       "      <td>...</td>\n",
       "      <td>...</td>\n",
       "      <td>...</td>\n",
       "      <td>...</td>\n",
       "      <td>...</td>\n",
       "      <td>...</td>\n",
       "      <td>...</td>\n",
       "    </tr>\n",
       "    <tr>\n",
       "      <th>124883</th>\n",
       "      <td>1.338608</td>\n",
       "      <td>-0.355593</td>\n",
       "      <td>0.788151</td>\n",
       "      <td>2.306121</td>\n",
       "      <td>19216831185</td>\n",
       "      <td>16224724114</td>\n",
       "      <td>2</td>\n",
       "    </tr>\n",
       "    <tr>\n",
       "      <th>124884</th>\n",
       "      <td>-1.443082</td>\n",
       "      <td>2.708787</td>\n",
       "      <td>-1.333198</td>\n",
       "      <td>-0.214232</td>\n",
       "      <td>16224724114</td>\n",
       "      <td>19216831185</td>\n",
       "      <td>2</td>\n",
       "    </tr>\n",
       "    <tr>\n",
       "      <th>124885</th>\n",
       "      <td>1.216001</td>\n",
       "      <td>-0.355593</td>\n",
       "      <td>-1.344412</td>\n",
       "      <td>-0.227555</td>\n",
       "      <td>19216831185</td>\n",
       "      <td>16224724329</td>\n",
       "      <td>2</td>\n",
       "    </tr>\n",
       "    <tr>\n",
       "      <th>124886</th>\n",
       "      <td>-1.443082</td>\n",
       "      <td>2.708787</td>\n",
       "      <td>-0.561289</td>\n",
       "      <td>0.702866</td>\n",
       "      <td>16224724114</td>\n",
       "      <td>19216831185</td>\n",
       "      <td>2</td>\n",
       "    </tr>\n",
       "    <tr>\n",
       "      <th>124887</th>\n",
       "      <td>1.338608</td>\n",
       "      <td>-0.355593</td>\n",
       "      <td>-1.344412</td>\n",
       "      <td>-0.227555</td>\n",
       "      <td>19216831185</td>\n",
       "      <td>16224724114</td>\n",
       "      <td>2</td>\n",
       "    </tr>\n",
       "  </tbody>\n",
       "</table>\n",
       "<p>124888 rows × 7 columns</p>\n",
       "</div>"
      ],
      "text/plain": [
       "        source_port  target_port  packet_size  packet_length    source_ip  \\\n",
       "0         -0.169890    -0.373419    -1.269651      -0.169820   1921681100   \n",
       "1          0.180192    -0.373419    -1.269651      -0.169820   1921681100   \n",
       "2          1.120520    -0.373419    -1.269651      -0.169820   1921681100   \n",
       "3         -1.194991    -0.373419    -1.269651      -0.169820   1921681100   \n",
       "4         -0.377882    -0.373419    -1.269651      -0.169820   1921681100   \n",
       "...             ...          ...          ...            ...          ...   \n",
       "124883     1.338608    -0.355593     0.788151       2.306121  19216831185   \n",
       "124884    -1.443082     2.708787    -1.333198      -0.214232  16224724114   \n",
       "124885     1.216001    -0.355593    -1.344412      -0.227555  19216831185   \n",
       "124886    -1.443082     2.708787    -0.561289       0.702866  16224724114   \n",
       "124887     1.338608    -0.355593    -1.344412      -0.227555  19216831185   \n",
       "\n",
       "          target_ip  attack_mode_encoded  \n",
       "0       19216831185                    0  \n",
       "1       19216831185                    0  \n",
       "2       19216831185                    0  \n",
       "3       19216831185                    0  \n",
       "4       19216831185                    0  \n",
       "...             ...                  ...  \n",
       "124883  16224724114                    2  \n",
       "124884  19216831185                    2  \n",
       "124885  16224724329                    2  \n",
       "124886  19216831185                    2  \n",
       "124887  16224724114                    2  \n",
       "\n",
       "[124888 rows x 7 columns]"
      ]
     },
     "execution_count": 107,
     "metadata": {},
     "output_type": "execute_result"
    }
   ],
   "source": [
    "X"
   ]
  },
  {
   "cell_type": "code",
   "execution_count": 108,
   "id": "d3b7efef-d902-41e7-a509-64e30497440a",
   "metadata": {},
   "outputs": [
    {
     "data": {
      "text/plain": [
       "array([0, 0, 0, ..., 1, 0, 1])"
      ]
     },
     "execution_count": 108,
     "metadata": {},
     "output_type": "execute_result"
    }
   ],
   "source": [
    "model.predict(X)"
   ]
  },
  {
   "cell_type": "code",
   "execution_count": null,
   "id": "b94e4991-129e-41af-b8f7-5b0a4aa6ef3d",
   "metadata": {},
   "outputs": [],
   "source": []
  },
  {
   "cell_type": "code",
   "execution_count": null,
   "id": "5b3532ff-874c-49c8-a1da-859abb22d1b9",
   "metadata": {},
   "outputs": [],
   "source": []
  }
 ],
 "metadata": {
  "kernelspec": {
   "display_name": "Python 3 (ipykernel)",
   "language": "python",
   "name": "python3"
  },
  "language_info": {
   "codemirror_mode": {
    "name": "ipython",
    "version": 3
   },
   "file_extension": ".py",
   "mimetype": "text/x-python",
   "name": "python",
   "nbconvert_exporter": "python",
   "pygments_lexer": "ipython3",
   "version": "3.11.7"
  }
 },
 "nbformat": 4,
 "nbformat_minor": 5
}
